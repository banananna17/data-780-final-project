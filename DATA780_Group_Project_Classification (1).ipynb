{
  "cells": [
    {
      "cell_type": "markdown",
      "source": [
        "# Data Pre-Processing"
      ],
      "metadata": {
        "id": "lZj4Uo5HWif3"
      }
    },
    {
      "cell_type": "code",
      "execution_count": null,
      "metadata": {
        "colab": {
          "base_uri": "https://localhost:8080/",
          "height": 206
        },
        "collapsed": true,
        "id": "3IlFxOC6_dK7",
        "outputId": "98c6e410-8b60-49e4-e714-f053e952bcf6"
      },
      "outputs": [
        {
          "output_type": "execute_result",
          "data": {
            "text/plain": [
              "   ID   price  year  baths  Community Type  Number of Ammenities  Living Area  \\\n",
              "0   1  899000  2022      3               1                     8         2266   \n",
              "1   2  699995  2024      3               1                     4         2242   \n",
              "2   3  699000  2022      3               1                     8         2243   \n",
              "3   4  595000  2022      2               1                     4         1569   \n",
              "4   5  599995  2024      2               1                     6         1643   \n",
              "\n",
              "   Total Area  Total Floors  Garage Spaces  Bedrooms  \n",
              "0        2882             2              2         3  \n",
              "1        2940             2              2         6  \n",
              "2        2940             2              2         4  \n",
              "3        1965             1              2         2  \n",
              "4        2261             1              2         3  "
            ],
            "text/html": [
              "\n",
              "  <div id=\"df-03387006-5ee0-4dee-beb7-66e77650f9a0\" class=\"colab-df-container\">\n",
              "    <div>\n",
              "<style scoped>\n",
              "    .dataframe tbody tr th:only-of-type {\n",
              "        vertical-align: middle;\n",
              "    }\n",
              "\n",
              "    .dataframe tbody tr th {\n",
              "        vertical-align: top;\n",
              "    }\n",
              "\n",
              "    .dataframe thead th {\n",
              "        text-align: right;\n",
              "    }\n",
              "</style>\n",
              "<table border=\"1\" class=\"dataframe\">\n",
              "  <thead>\n",
              "    <tr style=\"text-align: right;\">\n",
              "      <th></th>\n",
              "      <th>ID</th>\n",
              "      <th>price</th>\n",
              "      <th>year</th>\n",
              "      <th>baths</th>\n",
              "      <th>Community Type</th>\n",
              "      <th>Number of Ammenities</th>\n",
              "      <th>Living Area</th>\n",
              "      <th>Total Area</th>\n",
              "      <th>Total Floors</th>\n",
              "      <th>Garage Spaces</th>\n",
              "      <th>Bedrooms</th>\n",
              "    </tr>\n",
              "  </thead>\n",
              "  <tbody>\n",
              "    <tr>\n",
              "      <th>0</th>\n",
              "      <td>1</td>\n",
              "      <td>899000</td>\n",
              "      <td>2022</td>\n",
              "      <td>3</td>\n",
              "      <td>1</td>\n",
              "      <td>8</td>\n",
              "      <td>2266</td>\n",
              "      <td>2882</td>\n",
              "      <td>2</td>\n",
              "      <td>2</td>\n",
              "      <td>3</td>\n",
              "    </tr>\n",
              "    <tr>\n",
              "      <th>1</th>\n",
              "      <td>2</td>\n",
              "      <td>699995</td>\n",
              "      <td>2024</td>\n",
              "      <td>3</td>\n",
              "      <td>1</td>\n",
              "      <td>4</td>\n",
              "      <td>2242</td>\n",
              "      <td>2940</td>\n",
              "      <td>2</td>\n",
              "      <td>2</td>\n",
              "      <td>6</td>\n",
              "    </tr>\n",
              "    <tr>\n",
              "      <th>2</th>\n",
              "      <td>3</td>\n",
              "      <td>699000</td>\n",
              "      <td>2022</td>\n",
              "      <td>3</td>\n",
              "      <td>1</td>\n",
              "      <td>8</td>\n",
              "      <td>2243</td>\n",
              "      <td>2940</td>\n",
              "      <td>2</td>\n",
              "      <td>2</td>\n",
              "      <td>4</td>\n",
              "    </tr>\n",
              "    <tr>\n",
              "      <th>3</th>\n",
              "      <td>4</td>\n",
              "      <td>595000</td>\n",
              "      <td>2022</td>\n",
              "      <td>2</td>\n",
              "      <td>1</td>\n",
              "      <td>4</td>\n",
              "      <td>1569</td>\n",
              "      <td>1965</td>\n",
              "      <td>1</td>\n",
              "      <td>2</td>\n",
              "      <td>2</td>\n",
              "    </tr>\n",
              "    <tr>\n",
              "      <th>4</th>\n",
              "      <td>5</td>\n",
              "      <td>599995</td>\n",
              "      <td>2024</td>\n",
              "      <td>2</td>\n",
              "      <td>1</td>\n",
              "      <td>6</td>\n",
              "      <td>1643</td>\n",
              "      <td>2261</td>\n",
              "      <td>1</td>\n",
              "      <td>2</td>\n",
              "      <td>3</td>\n",
              "    </tr>\n",
              "  </tbody>\n",
              "</table>\n",
              "</div>\n",
              "    <div class=\"colab-df-buttons\">\n",
              "\n",
              "  <div class=\"colab-df-container\">\n",
              "    <button class=\"colab-df-convert\" onclick=\"convertToInteractive('df-03387006-5ee0-4dee-beb7-66e77650f9a0')\"\n",
              "            title=\"Convert this dataframe to an interactive table.\"\n",
              "            style=\"display:none;\">\n",
              "\n",
              "  <svg xmlns=\"http://www.w3.org/2000/svg\" height=\"24px\" viewBox=\"0 -960 960 960\">\n",
              "    <path d=\"M120-120v-720h720v720H120Zm60-500h600v-160H180v160Zm220 220h160v-160H400v160Zm0 220h160v-160H400v160ZM180-400h160v-160H180v160Zm440 0h160v-160H620v160ZM180-180h160v-160H180v160Zm440 0h160v-160H620v160Z\"/>\n",
              "  </svg>\n",
              "    </button>\n",
              "\n",
              "  <style>\n",
              "    .colab-df-container {\n",
              "      display:flex;\n",
              "      gap: 12px;\n",
              "    }\n",
              "\n",
              "    .colab-df-convert {\n",
              "      background-color: #E8F0FE;\n",
              "      border: none;\n",
              "      border-radius: 50%;\n",
              "      cursor: pointer;\n",
              "      display: none;\n",
              "      fill: #1967D2;\n",
              "      height: 32px;\n",
              "      padding: 0 0 0 0;\n",
              "      width: 32px;\n",
              "    }\n",
              "\n",
              "    .colab-df-convert:hover {\n",
              "      background-color: #E2EBFA;\n",
              "      box-shadow: 0px 1px 2px rgba(60, 64, 67, 0.3), 0px 1px 3px 1px rgba(60, 64, 67, 0.15);\n",
              "      fill: #174EA6;\n",
              "    }\n",
              "\n",
              "    .colab-df-buttons div {\n",
              "      margin-bottom: 4px;\n",
              "    }\n",
              "\n",
              "    [theme=dark] .colab-df-convert {\n",
              "      background-color: #3B4455;\n",
              "      fill: #D2E3FC;\n",
              "    }\n",
              "\n",
              "    [theme=dark] .colab-df-convert:hover {\n",
              "      background-color: #434B5C;\n",
              "      box-shadow: 0px 1px 3px 1px rgba(0, 0, 0, 0.15);\n",
              "      filter: drop-shadow(0px 1px 2px rgba(0, 0, 0, 0.3));\n",
              "      fill: #FFFFFF;\n",
              "    }\n",
              "  </style>\n",
              "\n",
              "    <script>\n",
              "      const buttonEl =\n",
              "        document.querySelector('#df-03387006-5ee0-4dee-beb7-66e77650f9a0 button.colab-df-convert');\n",
              "      buttonEl.style.display =\n",
              "        google.colab.kernel.accessAllowed ? 'block' : 'none';\n",
              "\n",
              "      async function convertToInteractive(key) {\n",
              "        const element = document.querySelector('#df-03387006-5ee0-4dee-beb7-66e77650f9a0');\n",
              "        const dataTable =\n",
              "          await google.colab.kernel.invokeFunction('convertToInteractive',\n",
              "                                                    [key], {});\n",
              "        if (!dataTable) return;\n",
              "\n",
              "        const docLinkHtml = 'Like what you see? Visit the ' +\n",
              "          '<a target=\"_blank\" href=https://colab.research.google.com/notebooks/data_table.ipynb>data table notebook</a>'\n",
              "          + ' to learn more about interactive tables.';\n",
              "        element.innerHTML = '';\n",
              "        dataTable['output_type'] = 'display_data';\n",
              "        await google.colab.output.renderOutput(dataTable, element);\n",
              "        const docLink = document.createElement('div');\n",
              "        docLink.innerHTML = docLinkHtml;\n",
              "        element.appendChild(docLink);\n",
              "      }\n",
              "    </script>\n",
              "  </div>\n",
              "\n",
              "\n",
              "<div id=\"df-92c7b822-2828-430f-9647-d7e0b60d74f7\">\n",
              "  <button class=\"colab-df-quickchart\" onclick=\"quickchart('df-92c7b822-2828-430f-9647-d7e0b60d74f7')\"\n",
              "            title=\"Suggest charts\"\n",
              "            style=\"display:none;\">\n",
              "\n",
              "<svg xmlns=\"http://www.w3.org/2000/svg\" height=\"24px\"viewBox=\"0 0 24 24\"\n",
              "     width=\"24px\">\n",
              "    <g>\n",
              "        <path d=\"M19 3H5c-1.1 0-2 .9-2 2v14c0 1.1.9 2 2 2h14c1.1 0 2-.9 2-2V5c0-1.1-.9-2-2-2zM9 17H7v-7h2v7zm4 0h-2V7h2v10zm4 0h-2v-4h2v4z\"/>\n",
              "    </g>\n",
              "</svg>\n",
              "  </button>\n",
              "\n",
              "<style>\n",
              "  .colab-df-quickchart {\n",
              "      --bg-color: #E8F0FE;\n",
              "      --fill-color: #1967D2;\n",
              "      --hover-bg-color: #E2EBFA;\n",
              "      --hover-fill-color: #174EA6;\n",
              "      --disabled-fill-color: #AAA;\n",
              "      --disabled-bg-color: #DDD;\n",
              "  }\n",
              "\n",
              "  [theme=dark] .colab-df-quickchart {\n",
              "      --bg-color: #3B4455;\n",
              "      --fill-color: #D2E3FC;\n",
              "      --hover-bg-color: #434B5C;\n",
              "      --hover-fill-color: #FFFFFF;\n",
              "      --disabled-bg-color: #3B4455;\n",
              "      --disabled-fill-color: #666;\n",
              "  }\n",
              "\n",
              "  .colab-df-quickchart {\n",
              "    background-color: var(--bg-color);\n",
              "    border: none;\n",
              "    border-radius: 50%;\n",
              "    cursor: pointer;\n",
              "    display: none;\n",
              "    fill: var(--fill-color);\n",
              "    height: 32px;\n",
              "    padding: 0;\n",
              "    width: 32px;\n",
              "  }\n",
              "\n",
              "  .colab-df-quickchart:hover {\n",
              "    background-color: var(--hover-bg-color);\n",
              "    box-shadow: 0 1px 2px rgba(60, 64, 67, 0.3), 0 1px 3px 1px rgba(60, 64, 67, 0.15);\n",
              "    fill: var(--button-hover-fill-color);\n",
              "  }\n",
              "\n",
              "  .colab-df-quickchart-complete:disabled,\n",
              "  .colab-df-quickchart-complete:disabled:hover {\n",
              "    background-color: var(--disabled-bg-color);\n",
              "    fill: var(--disabled-fill-color);\n",
              "    box-shadow: none;\n",
              "  }\n",
              "\n",
              "  .colab-df-spinner {\n",
              "    border: 2px solid var(--fill-color);\n",
              "    border-color: transparent;\n",
              "    border-bottom-color: var(--fill-color);\n",
              "    animation:\n",
              "      spin 1s steps(1) infinite;\n",
              "  }\n",
              "\n",
              "  @keyframes spin {\n",
              "    0% {\n",
              "      border-color: transparent;\n",
              "      border-bottom-color: var(--fill-color);\n",
              "      border-left-color: var(--fill-color);\n",
              "    }\n",
              "    20% {\n",
              "      border-color: transparent;\n",
              "      border-left-color: var(--fill-color);\n",
              "      border-top-color: var(--fill-color);\n",
              "    }\n",
              "    30% {\n",
              "      border-color: transparent;\n",
              "      border-left-color: var(--fill-color);\n",
              "      border-top-color: var(--fill-color);\n",
              "      border-right-color: var(--fill-color);\n",
              "    }\n",
              "    40% {\n",
              "      border-color: transparent;\n",
              "      border-right-color: var(--fill-color);\n",
              "      border-top-color: var(--fill-color);\n",
              "    }\n",
              "    60% {\n",
              "      border-color: transparent;\n",
              "      border-right-color: var(--fill-color);\n",
              "    }\n",
              "    80% {\n",
              "      border-color: transparent;\n",
              "      border-right-color: var(--fill-color);\n",
              "      border-bottom-color: var(--fill-color);\n",
              "    }\n",
              "    90% {\n",
              "      border-color: transparent;\n",
              "      border-bottom-color: var(--fill-color);\n",
              "    }\n",
              "  }\n",
              "</style>\n",
              "\n",
              "  <script>\n",
              "    async function quickchart(key) {\n",
              "      const quickchartButtonEl =\n",
              "        document.querySelector('#' + key + ' button');\n",
              "      quickchartButtonEl.disabled = true;  // To prevent multiple clicks.\n",
              "      quickchartButtonEl.classList.add('colab-df-spinner');\n",
              "      try {\n",
              "        const charts = await google.colab.kernel.invokeFunction(\n",
              "            'suggestCharts', [key], {});\n",
              "      } catch (error) {\n",
              "        console.error('Error during call to suggestCharts:', error);\n",
              "      }\n",
              "      quickchartButtonEl.classList.remove('colab-df-spinner');\n",
              "      quickchartButtonEl.classList.add('colab-df-quickchart-complete');\n",
              "    }\n",
              "    (() => {\n",
              "      let quickchartButtonEl =\n",
              "        document.querySelector('#df-92c7b822-2828-430f-9647-d7e0b60d74f7 button');\n",
              "      quickchartButtonEl.style.display =\n",
              "        google.colab.kernel.accessAllowed ? 'block' : 'none';\n",
              "    })();\n",
              "  </script>\n",
              "</div>\n",
              "\n",
              "    </div>\n",
              "  </div>\n"
            ],
            "application/vnd.google.colaboratory.intrinsic+json": {
              "type": "dataframe",
              "variable_name": "df",
              "summary": "{\n  \"name\": \"df\",\n  \"rows\": 1486,\n  \"fields\": [\n    {\n      \"column\": \"ID\",\n      \"properties\": {\n        \"dtype\": \"number\",\n        \"std\": 429,\n        \"min\": 1,\n        \"max\": 1486,\n        \"num_unique_values\": 1486,\n        \"samples\": [\n          1317,\n          856,\n          440\n        ],\n        \"semantic_type\": \"\",\n        \"description\": \"\"\n      }\n    },\n    {\n      \"column\": \"price\",\n      \"properties\": {\n        \"dtype\": \"number\",\n        \"std\": 2803906,\n        \"min\": 285000,\n        \"max\": 37950000,\n        \"num_unique_values\": 739,\n        \"samples\": [\n          679000,\n          3450000,\n          2099000\n        ],\n        \"semantic_type\": \"\",\n        \"description\": \"\"\n      }\n    },\n    {\n      \"column\": \"year\",\n      \"properties\": {\n        \"dtype\": \"number\",\n        \"std\": 13,\n        \"min\": 1960,\n        \"max\": 2024,\n        \"num_unique_values\": 61,\n        \"samples\": [\n          2022,\n          1992,\n          1981\n        ],\n        \"semantic_type\": \"\",\n        \"description\": \"\"\n      }\n    },\n    {\n      \"column\": \"baths\",\n      \"properties\": {\n        \"dtype\": \"number\",\n        \"std\": 0,\n        \"min\": 1,\n        \"max\": 8,\n        \"num_unique_values\": 8,\n        \"samples\": [\n          2,\n          6,\n          3\n        ],\n        \"semantic_type\": \"\",\n        \"description\": \"\"\n      }\n    },\n    {\n      \"column\": \"Community Type\",\n      \"properties\": {\n        \"dtype\": \"number\",\n        \"std\": 0,\n        \"min\": 0,\n        \"max\": 1,\n        \"num_unique_values\": 2,\n        \"samples\": [\n          0,\n          1\n        ],\n        \"semantic_type\": \"\",\n        \"description\": \"\"\n      }\n    },\n    {\n      \"column\": \"Number of Ammenities\",\n      \"properties\": {\n        \"dtype\": \"number\",\n        \"std\": 6,\n        \"min\": 1,\n        \"max\": 29,\n        \"num_unique_values\": 29,\n        \"samples\": [\n          29,\n          15\n        ],\n        \"semantic_type\": \"\",\n        \"description\": \"\"\n      }\n    },\n    {\n      \"column\": \"Living Area\",\n      \"properties\": {\n        \"dtype\": \"number\",\n        \"std\": 1219,\n        \"min\": 920,\n        \"max\": 11572,\n        \"num_unique_values\": 954,\n        \"samples\": [\n          1095,\n          1649\n        ],\n        \"semantic_type\": \"\",\n        \"description\": \"\"\n      }\n    },\n    {\n      \"column\": \"Total Area\",\n      \"properties\": {\n        \"dtype\": \"number\",\n        \"std\": 1973,\n        \"min\": 942,\n        \"max\": 19565,\n        \"num_unique_values\": 1087,\n        \"samples\": [\n          1800,\n          3154\n        ],\n        \"semantic_type\": \"\",\n        \"description\": \"\"\n      }\n    },\n    {\n      \"column\": \"Total Floors\",\n      \"properties\": {\n        \"dtype\": \"number\",\n        \"std\": 1,\n        \"min\": 1,\n        \"max\": 21,\n        \"num_unique_values\": 9,\n        \"samples\": [\n          17,\n          1\n        ],\n        \"semantic_type\": \"\",\n        \"description\": \"\"\n      }\n    },\n    {\n      \"column\": \"Garage Spaces\",\n      \"properties\": {\n        \"dtype\": \"number\",\n        \"std\": 0,\n        \"min\": 1,\n        \"max\": 22,\n        \"num_unique_values\": 10,\n        \"samples\": [\n          10,\n          22\n        ],\n        \"semantic_type\": \"\",\n        \"description\": \"\"\n      }\n    },\n    {\n      \"column\": \"Bedrooms\",\n      \"properties\": {\n        \"dtype\": \"number\",\n        \"std\": 1,\n        \"min\": 1,\n        \"max\": 12,\n        \"num_unique_values\": 11,\n        \"samples\": [\n          5,\n          3\n        ],\n        \"semantic_type\": \"\",\n        \"description\": \"\"\n      }\n    }\n  ]\n}"
            }
          },
          "metadata": {},
          "execution_count": 68
        }
      ],
      "source": [
        "import warnings\n",
        "import datetime\n",
        "import numpy as np\n",
        "import pandas as pd\n",
        "import seaborn as sns\n",
        "import matplotlib.pyplot as plt\n",
        "from sklearn.exceptions import ConvergenceWarning\n",
        "\n",
        "# ignoring warnings\n",
        "warnings.simplefilter(action='ignore', category=pd.errors.PerformanceWarning)\n",
        "\n",
        "# importing data\n",
        "df = pd.read_csv('SWFL_Properties_Cleaned.csv')\n",
        "\n",
        "# converting string values to int\n",
        "numeric_cols = ['price', 'year', 'baths', 'sqft', 'Number of Ammenities',\n",
        "                'Living Area', 'Total Area', 'Total Floors',\n",
        "                'Garage Spaces', 'Bedrooms']\n",
        "\n",
        "for col in numeric_cols:\n",
        "  df[col] = df[col].astype(str).str.replace(r'[$,]', '', regex=True).astype(int)\n",
        "\n",
        "# converting 'Community Type' to boolean\n",
        "df['Community Type'] = [1 if i==\"Gated\" else 0 for i in df['Community Type']]\n",
        "\n",
        "# removing 'sqft' feature\n",
        "df = df.drop(columns=['sqft'])\n",
        "\n",
        "  # Verify all correct type\n",
        "  # for col in df.columns:\n",
        "  #   print(f'Name: {col} Type: {type(df[col][0])}')\n",
        "\n",
        "df.head()"
      ]
    },
    {
      "cell_type": "markdown",
      "source": [
        "## Initial Visualizations"
      ],
      "metadata": {
        "id": "Kyn_iBujXsYZ"
      }
    },
    {
      "cell_type": "code",
      "execution_count": null,
      "metadata": {
        "collapsed": true,
        "id": "Cw3bOHlYnTb-",
        "colab": {
          "base_uri": "https://localhost:8080/",
          "height": 391
        },
        "outputId": "cc5164c2-10c2-4251-d296-b03239748ed5"
      },
      "outputs": [
        {
          "output_type": "display_data",
          "data": {
            "text/plain": [
              "<Figure size 800x400 with 1 Axes>"
            ],
            "image/png": "[encoded data removed]"
          },
          "metadata": {}
        }
      ],
      "source": [
        "# @title price\n",
        "\n",
        "from matplotlib import pyplot as plt\n",
        "df['price'].plot(kind='line', figsize=(8, 4), title='price')\n",
        "plt.gca().spines[['top', 'right']].set_visible(False)"
      ]
    },
    {
      "cell_type": "markdown",
      "source": [
        "# Functions"
      ],
      "metadata": {
        "id": "9HmSjDmTWx6w"
      }
    },
    {
      "cell_type": "code",
      "source": [
        "# Bucket Function #1: Break price up into various counts of buckets\n",
        "def create_buckets(df, col, num_buckets):\n",
        "  \"\"\"\n",
        "  Creates buckets based on values in a given column in a dataframe.\n",
        "  Args:\n",
        "    df: dataframe\n",
        "    col: column to create buckets from\n",
        "    num_buckets: number of buckets to create\n",
        "  Returns:\n",
        "    df: dataframe with buckets column added\n",
        "  \"\"\"\n",
        "\n",
        "  dfc = df.copy()\n",
        "\n",
        "  dfc = dfc.sort_values([col]).reset_index(drop=True)\n",
        "\n",
        "  bucket_size = len(dfc) // num_buckets\n",
        "\n",
        "  dfc['bucket'] = num_buckets - 1\n",
        "\n",
        "  for i in range(num_buckets):\n",
        "    start_index = i * bucket_size\n",
        "    end_index = start_index + bucket_size\n",
        "\n",
        "    for j in range(start_index, end_index):\n",
        "      dfc.at[j, 'bucket'] = i\n",
        "\n",
        "  return dfc\n",
        "\n",
        "# Function to print bucket ranges\n",
        "def print_bucket_ranges(df):\n",
        "  \"\"\"\n",
        "  Prints the price range of each bucket in a dataframe.\n",
        "  Args:\n",
        "    df: dataframe\n",
        "  Returns:\n",
        "    None\n",
        "  \"\"\"\n",
        "  df_sorted = df.sort_values('bucket').reset_index(drop=True)\n",
        "  for bucket in df_sorted['bucket'].unique():\n",
        "    print(f'Bucket Name: {bucket}')\n",
        "    max_price_in_bucket = df_sorted[df_sorted['bucket'] == bucket]['price'].max()\n",
        "    min_price_in_bucket = df_sorted[df_sorted['bucket'] == bucket]['price'].min()\n",
        "    print(f'Price Range: {min_price_in_bucket} - {max_price_in_bucket}')\n",
        "    print()\n",
        "\n",
        "def create_log_reg_model(X, y):\n",
        "  \"\"\"\n",
        "  Creates a logistic regression model.\n",
        "  Args:\n",
        "    X: features\n",
        "    y: target\n",
        "  Returns:\n",
        "    model: logistic regression model\n",
        "  \"\"\"\n",
        "  X_train, X_test, y_train, y_test = train_test_split(X, y, test_size=0.2, random_state=42)\n",
        "\n",
        "  model = LogisticRegression(max_iter=1000)\n",
        "\n",
        "  model.fit(X_train, y_train)\n",
        "\n",
        "  return model\n",
        "\n",
        "def evaluate_log_reg_model(model, X, y):\n",
        "  \"\"\"\n",
        "  Evaluates a logistic regression model.\n",
        "  Args:\n",
        "    model: logistic regression model\n",
        "    X: features\n",
        "    y: target\n",
        "  Returns:\n",
        "    None\n",
        "  \"\"\"\n",
        "  X_train, X_test, y_train, y_test = train_test_split(X, y, test_size=0.2, random_state=42)\n",
        "\n",
        "  y_pred = model.predict(X_test)\n",
        "\n",
        "  accuracy_lr_b1 = accuracy_score(y_test, y_pred)\n",
        "  print(f\"Accuracy: {accuracy_lr_b1:.2f}\")\n",
        "  print(\"\\nClassification Report:\")\n",
        "  print(classification_report(y_test, y_pred))"
      ],
      "metadata": {
        "id": "Xxdz7CmBX2iO"
      },
      "execution_count": null,
      "outputs": []
    },
    {
      "cell_type": "markdown",
      "source": [
        "# Models without Feature Engineering"
      ],
      "metadata": {
        "id": "uHdmlp8JW4dY"
      }
    },
    {
      "cell_type": "code",
      "source": [
        "# imports\n",
        "from sklearn import svm\n",
        "from sklearn.svm import SVC\n",
        "from xgboost import XGBRegressor\n",
        "from sklearn.preprocessing import MinMaxScaler, StandardScaler, label_binarize\n",
        "from sklearn.ensemble import RandomForestRegressor, RandomForestClassifier\n",
        "from sklearn.model_selection import train_test_split\n",
        "from sklearn.linear_model import LogisticRegression, LinearRegression, SGDClassifier\n",
        "from sklearn.metrics import mean_squared_error, root_mean_squared_log_error, r2_score, mean_absolute_percentage_error, accuracy_score, classification_report, mean_absolute_error, confusion_matrix, precision_recall_fscore_support, roc_auc_score"
      ],
      "metadata": {
        "id": "aMXsriGUYTN_"
      },
      "execution_count": null,
      "outputs": []
    },
    {
      "cell_type": "markdown",
      "source": [
        "## Regression Models"
      ],
      "metadata": {
        "id": "9jfCehtDqFkY"
      }
    },
    {
      "cell_type": "code",
      "execution_count": null,
      "metadata": {
        "collapsed": true,
        "id": "5CEytCCmS0Yu",
        "colab": {
          "base_uri": "https://localhost:8080/"
        },
        "outputId": "03bb0610-f754-464a-9b9f-7696ccf19b76"
      },
      "outputs": [
        {
          "output_type": "stream",
          "name": "stdout",
          "text": [
            "Intercept: -29430601.628018532\n",
            "Coefficients: [ 1.40937185e+04 -7.25062370e+04 -1.27384282e+06 -1.11972088e+04\n",
            "  2.22888445e+03 -2.64476970e+02 -4.83383571e+04  3.50108070e+05\n",
            " -3.76888529e+05]\n",
            "R^2 Score: 0.6582647232418146\n",
            "Root Mean Squared Log Error: 5.254392143080956\n",
            "Mean Squared Error: 2251636551027.5283\n",
            "Mean Absolute Error: 833327.3687873358\n"
          ]
        }
      ],
      "source": [
        "# Linear Regression Model w/o Feature Engineering\n",
        "X = df.drop(columns=['ID', 'price'])\n",
        "y = df['price']\n",
        "\n",
        "# splitting into training and testing sets\n",
        "X_train, X_test, y_train, y_test = train_test_split(X, y, test_size = 0.2, random_state = 42)\n",
        "\n",
        "# creating and fitting model\n",
        "lin_reg_model_wo = LinearRegression()\n",
        "lin_reg_model_wo.fit(X_train, y_train)\n",
        "\n",
        "# predictions\n",
        "y_pred_lir = lin_reg_model_wo.predict(X_test)\n",
        "y_pred_lir = np.clip(y_pred_lir, 0, None)  # Clip predictions to be >= 0\n",
        "\n",
        "# metrics\n",
        "r2_lr_wo = r2_score(y_test, y_pred_lir)\n",
        "rmsle_lr_wo = root_mean_squared_log_error(y_test, y_pred_lir)\n",
        "mse_lr_wo = mean_squared_error(y_test, y_pred_lir)\n",
        "mae_lr_wo = mean_absolute_error(y_test, y_pred_lir)\n",
        "\n",
        "# printing metrics\n",
        "print(\"Intercept:\", lin_reg_model_wo.intercept_)\n",
        "print(\"Coefficients:\", lin_reg_model_wo.coef_)\n",
        "print(f\"R^2 Score: {r2_lr_wo}\")\n",
        "print(f\"Root Mean Squared Log Error: {rmsle_lr_wo}\")\n",
        "print(f\"Mean Squared Error: {mse_lr_wo}\")\n",
        "print(f\"Mean Absolute Error: {mae_lr_wo}\")"
      ]
    },
    {
      "cell_type": "code",
      "execution_count": null,
      "metadata": {
        "collapsed": true,
        "id": "4JNGqo32xFF4",
        "colab": {
          "base_uri": "https://localhost:8080/"
        },
        "outputId": "c34aabf1-16fb-4c39-876a-f81df72e3515"
      },
      "outputs": [
        {
          "output_type": "stream",
          "name": "stdout",
          "text": [
            "R^2 Score: 0.8669096336052807\n",
            "Root Mean Squared Log Error: 0.3296902730883723\n",
            "Mean Squared Error: 936434.8093855074\n",
            "Mean Absolute Error: 446078.86280968355\n"
          ]
        }
      ],
      "source": [
        "# Random Forest Regression w/o Feature Egineering\n",
        "X = df.drop(columns=['ID', 'price'])\n",
        "y = df[\"price\"]\n",
        "\n",
        "X_train, X_test, y_train, y_test = train_test_split(X, y, test_size = 0.2, random_state = 42)\n",
        "\n",
        "rfr_wo = RandomForestRegressor(n_estimators=100, random_state=42)\n",
        "rfr_wo.fit(X_train, y_train)\n",
        "\n",
        "y_pred_rfr_wo = rfr_wo.predict(X_test)\n",
        "\n",
        "mae_rfr_wo = mean_absolute_error(y_test, y_pred_rfr_wo)\n",
        "mse_rfr_wo = np.sqrt(mean_squared_error(y_test, y_pred_rfr_wo))\n",
        "rmsle_rfr_wo = root_mean_squared_log_error(y_test, y_pred_rfr_wo)\n",
        "r2_rfr_wo = r2_score(y_test, y_pred_rfr_wo)\n",
        "\n",
        "# Print results\n",
        "print(f\"R^2 Score: {r2_rfr_wo}\")\n",
        "print(f\"Root Mean Squared Log Error: {rmsle_rfr_wo}\")\n",
        "print(f\"Mean Squared Error: {mse_rfr_wo}\")\n",
        "print(f\"Mean Absolute Error: {mae_rfr_wo}\")"
      ]
    },
    {
      "cell_type": "markdown",
      "source": [
        "# Feature Engineering"
      ],
      "metadata": {
        "id": "5MPGB7paW94U"
      }
    },
    {
      "cell_type": "code",
      "source": [
        "today = datetime.date.today()\n",
        "year = today.year\n",
        "\n",
        "# Feature Engineering\n",
        "df['Base Rooms'] = df['Bedrooms'] + df['baths']\n",
        "df[\"House Age\"] = year - df['year']\n",
        "df['Living Area Ratio'] = df['Living Area']/df['Total Area']\n",
        "df['Living Area Squared'] = df['Living Area']**2"
      ],
      "metadata": {
        "id": "CtIts1Vlc4Ao"
      },
      "execution_count": null,
      "outputs": []
    },
    {
      "cell_type": "markdown",
      "source": [
        "# Models with Feature Engineering"
      ],
      "metadata": {
        "id": "H7lI2O_BXAAt"
      }
    },
    {
      "cell_type": "markdown",
      "source": [
        "## Regression Models"
      ],
      "metadata": {
        "id": "vUbMywBdpPwm"
      }
    },
    {
      "cell_type": "code",
      "execution_count": null,
      "metadata": {
        "collapsed": true,
        "id": "VuFVF05bHkDx",
        "colab": {
          "base_uri": "https://localhost:8080/"
        },
        "outputId": "26433068-e032-4916-d340-ee49095c7ca4"
      },
      "outputs": [
        {
          "output_type": "stream",
          "name": "stdout",
          "text": [
            "Intercept: -12921408.764016917\n",
            "Coefficients: [ 7.39510708e+03  2.17435404e+05 -1.17816809e+06 -2.66439830e+03\n",
            "  1.15674641e+03 -5.51580419e+02 -2.44806739e+04  3.07244219e+05\n",
            " -2.38604312e+05 -2.11689081e+04 -7.39510708e+03 -2.17979151e+06\n",
            "  1.51780418e-01]\n",
            "R^2 Score: 0.6916926905302299\n",
            "Root Mean Squared Log Error: 4.164307728203676\n",
            "Mean Squared Error: 2031385268551.9177\n",
            "Mean Absolute Error: 740438.531542297\n"
          ]
        }
      ],
      "source": [
        "# Linear Regression with Feature engineering\n",
        "X = df.drop(columns=['ID', 'price'])\n",
        "y = df['price']\n",
        "\n",
        "# splitting into training and testing sets\n",
        "X_train, X_test, y_train, y_test = train_test_split(X, y, test_size = 0.2, random_state = 42)\n",
        "\n",
        "# creating and fitting model\n",
        "lin_reg_model_fe = LinearRegression()\n",
        "lin_reg_model_fe.fit(X_train, y_train)\n",
        "\n",
        "# predictions\n",
        "y_pred_lir_fe = lin_reg_model_fe.predict(X_test)\n",
        "y_pred_lir_fe = np.clip(y_pred_lir_fe, 0, None)  # Clip predictions to be >= 0\n",
        "\n",
        "# metrics\n",
        "r2_lr = r2_score(y_test, y_pred_lir_fe)\n",
        "rmsle_lr = root_mean_squared_log_error(y_test, y_pred_lir_fe)\n",
        "mse_lr = mean_squared_error(y_test, y_pred_lir_fe)\n",
        "mae_lr = mean_absolute_error(y_test, y_pred_lir_fe)\n",
        "\n",
        "# printing metrics\n",
        "print(\"Intercept:\", lin_reg_model_fe.intercept_)\n",
        "print(\"Coefficients:\", lin_reg_model_fe.coef_)\n",
        "print(f\"R^2 Score: {r2_lr}\")\n",
        "print(f\"Root Mean Squared Log Error: {rmsle_lr}\")\n",
        "print(f\"Mean Squared Error: {mse_lr}\")\n",
        "print(f\"Mean Absolute Error: {mae_lr}\")"
      ]
    },
    {
      "cell_type": "code",
      "source": [
        "# # Feature Importance Plot #1\n",
        "# # Summarize feature importance\n",
        "# for i,v in enumerate(lin_reg_model_fe.coef_):\n",
        "#     print(f\"Feature: \", X.columns[i])\n",
        "#     print('Score: %.5f\\n' % (v))\n",
        "# # plot feature importance\n",
        "# plt.bar([x for x in range(len(lin_reg_model_fe.coef_))], lin_reg_model_fe.coef_)\n",
        "# plt.show()\n",
        "\n",
        "# # Feature Importance Plot #2\n",
        "# scaler = MinMaxScaler()\n",
        "# normalized_coefficients = scaler.fit_transform(lin_reg_model_fe.coef_.reshape(-1, 1)).flatten()\n",
        "\n",
        "# df_importance = pd.DataFrame({'feature': X.columns, 'importance': normalized_coefficients})\n",
        "\n",
        "# # Sort by absolute importance\n",
        "# df_importance['abs_importance'] = df_importance['importance'].abs()\n",
        "# df_importance = df_importance.sort_values('abs_importance', ascending=False).drop('abs_importance', axis=1)\n",
        "\n",
        "# # Plot\n",
        "# plt.figure(figsize=(10, 6))\n",
        "# plt.bar(df_importance['feature'], df_importance['importance'])\n",
        "# plt.xlabel('Feature')\n",
        "# plt.ylabel('Coefficient Value')\n",
        "# plt.title('Linear Regression Feature Importance')\n",
        "# plt.xticks(rotation=45, ha='right')\n",
        "# plt.tight_layout()\n",
        "# plt.show()\n",
        "\n",
        "# # Feature Importance Plot #3\n",
        "# # Get Feature Importance (Absolute Coefficients)\n",
        "# coefficients = np.abs(lin_reg_model_fe.coef_)\n",
        "# importance = 100 * (coefficients / coefficients.sum())  # Normalize to sum to 100\n",
        "\n",
        "# # Create a DataFrame for sorting\n",
        "# feature_importance = pd.DataFrame({'Feature': X.columns, 'Importance': importance})\n",
        "\n",
        "# # Sort in descending order\n",
        "# feature_importance = feature_importance.sort_values(by='Importance', ascending=False)\n",
        "\n",
        "# # Plot Feature Importance\n",
        "# plt.figure(figsize=(8, 5))\n",
        "# plt.barh(feature_importance['Feature'], feature_importance['Importance'], color='royalblue')\n",
        "# plt.xlabel(\"Importance (out of 100)\")\n",
        "# plt.ylabel(\"Features\")\n",
        "# plt.title(\"Feature Importance for Linear Regression\")\n",
        "# plt.gca().invert_yaxis() # Highest importance on top\n",
        "# plt.show()"
      ],
      "metadata": {
        "id": "Ojx2K6Dde3xc"
      },
      "execution_count": null,
      "outputs": []
    },
    {
      "cell_type": "code",
      "execution_count": null,
      "metadata": {
        "collapsed": true,
        "id": "dIV2IYi874pm",
        "colab": {
          "base_uri": "https://localhost:8080/"
        },
        "outputId": "402eb838-5957-408b-a2f5-6fa6f8af75eb"
      },
      "outputs": [
        {
          "output_type": "stream",
          "name": "stdout",
          "text": [
            "0.5094832929687594\n",
            "R^2 Score: -0.09169666962164125\n",
            "Root Mean Squared Log Error: 0.9004735336599606\n",
            "Mean Squared Error: 11561791602512.05\n",
            "Mean Absolute Error: 1263262.2259938922\n"
          ]
        }
      ],
      "source": [
        "# SVM Model with Feature Engineering\n",
        "X = df.drop(columns=['ID', 'price'])\n",
        "y = df['price']\n",
        "\n",
        "# standardizing data\n",
        "scaler = StandardScaler().fit(X)\n",
        "X = scaler.transform(X)\n",
        "\n",
        "# splitting data\n",
        "X_train, X_test, y_train, y_test = train_test_split(X, y, test_size = 0.2, random_state = 725)\n",
        "\n",
        "# initializing model\n",
        "model_SVR = svm.SVR()\n",
        "model_SVR.fit(X_train, y_train)\n",
        "\n",
        "# gathering predicts\n",
        "y_pred_SVR = model_SVR.predict(X_test)\n",
        "\n",
        "print(mean_absolute_percentage_error(y_test, y_pred_SVR))\n",
        "\n",
        "# metrics\n",
        "r2_svm_reg = r2_score(y_test, y_pred_SVR)\n",
        "rmsle_svm_reg = root_mean_squared_log_error(y_test, y_pred_SVR)\n",
        "mse_svm_reg = mean_squared_error(y_test, y_pred_SVR)\n",
        "mae_svm_reg = mean_absolute_error(y_test, y_pred_SVR)\n",
        "\n",
        "# printing metrics\n",
        "print(f\"R^2 Score: {r2_svm_reg}\")\n",
        "print(f\"Root Mean Squared Log Error: {rmsle_svm_reg}\")\n",
        "print(f\"Mean Squared Error: {mse_svm_reg}\")\n",
        "print(f\"Mean Absolute Error: {mae_svm_reg}\")"
      ]
    },
    {
      "cell_type": "code",
      "execution_count": null,
      "metadata": {
        "collapsed": true,
        "id": "64JKgOVMNmyw",
        "colab": {
          "base_uri": "https://localhost:8080/"
        },
        "outputId": "d4043dc7-957a-4a34-9f4a-1b70e78edb9a"
      },
      "outputs": [
        {
          "output_type": "stream",
          "name": "stdout",
          "text": [
            "R^2 Score: 0.504202127456665\n",
            "Root Mean Squared Log Error: 0.34391388297080994\n",
            "Mean Squared Error: 5250828206080.0\n",
            "Mean Absolute Error: 647394.1875\n"
          ]
        }
      ],
      "source": [
        "# xgboost model\n",
        "X = df.drop(columns=['price', 'ID'])\n",
        "y = df.price\n",
        "\n",
        "X_train, X_test, y_train, y_test = train_test_split(X, y, test_size=0.2, random_state=725)\n",
        "\n",
        "xg_model = XGBRegressor()\n",
        "\n",
        "xg_model.fit(X_train, y_train)\n",
        "y_xg_pred = xg_model.predict(X_test)\n",
        "\n",
        "# metrics\n",
        "r2_xgb = r2_score(y_test, y_xg_pred)\n",
        "rmsle_xgb = root_mean_squared_log_error(y_test, y_xg_pred)\n",
        "mse_xgb = mean_squared_error(y_test, y_xg_pred)\n",
        "mae_xgb = mean_absolute_error(y_test, y_xg_pred)\n",
        "\n",
        "# printing metrics\n",
        "print(f\"R^2 Score: {r2_xgb}\")\n",
        "print(f\"Root Mean Squared Log Error: {rmsle_xgb}\")\n",
        "print(f\"Mean Squared Error: {mse_xgb}\")\n",
        "print(f\"Mean Absolute Error: {mae_xgb}\")"
      ]
    },
    {
      "cell_type": "code",
      "execution_count": null,
      "metadata": {
        "collapsed": true,
        "id": "sEu0s8BGtIh_",
        "colab": {
          "base_uri": "https://localhost:8080/"
        },
        "outputId": "f926e587-6520-4adb-8767-371a7c968b68"
      },
      "outputs": [
        {
          "output_type": "stream",
          "name": "stdout",
          "text": [
            "Mean Absolute Error (MAE): 460553.4463851436\n",
            "Root Mean Squared Log Error (RMSLE): 0.346727460350688\n",
            "Mean Squared Error (MSE): 899434993098.3947\n",
            "R² Score: 0.8634909945158735\n"
          ]
        }
      ],
      "source": [
        "# Random Forest Regression w/ Feature Egineering\n",
        "X = df[[\"year\", \"Community Type\", \"Total Area\", \"Total Floors\", \"Garage Spaces\",\n",
        "        \"Base Rooms\", \"Living Area Ratio\", \"House Age\", \"Living Area Squared\"]]\n",
        "y = df[\"price\"]\n",
        "\n",
        "X_train, X_test, y_train, y_test = train_test_split(X, y, test_size = 0.2, random_state = 42)\n",
        "\n",
        "rfr = RandomForestRegressor(n_estimators=100, random_state=42)\n",
        "rfr.fit(X_train, y_train)\n",
        "\n",
        "y_pred_rfr = rfr.predict(X_test)\n",
        "\n",
        "mae_rfr = mean_absolute_error(y_test, y_pred_rfr)\n",
        "rmsle_rfr = root_mean_squared_log_error(y_test, y_pred_rfr)\n",
        "mse_rfr = mean_squared_error(y_test, y_pred_rfr)\n",
        "r2_rfr = r2_score(y_test, y_pred_rfr)\n",
        "\n",
        "print(\"Mean Absolute Error (MAE):\", mae_rfr)\n",
        "print(\"Root Mean Squared Log Error (RMSLE):\", rmsle_rfr)\n",
        "print(\"Mean Squared Error (MSE):\", mse_rfr)\n",
        "print(\"R² Score:\", r2_rfr)"
      ]
    },
    {
      "cell_type": "markdown",
      "source": [
        "## Classification Models"
      ],
      "metadata": {
        "id": "uQ_8FUfepWTN"
      }
    },
    {
      "cell_type": "code",
      "execution_count": null,
      "metadata": {
        "collapsed": true,
        "id": "775uyhfCpPUn"
      },
      "outputs": [],
      "source": [
        "# Logistic Regression With Feature Engineering and optimal number of\n",
        "# quantized buckets\n",
        "\n",
        "bucket_accuracy = {}\n",
        "\n",
        "df_buckets = create_buckets(df, 'price', 9)\n",
        "X = df_buckets.drop(columns=['ID', 'price', 'bucket'])\n",
        "y = df_buckets['bucket']\n",
        "\n",
        "scaler = StandardScaler().fit(X)\n",
        "X = scaler.transform(X)\n",
        "\n",
        "X_train, X_test, y_train, y_test = train_test_split(X, y, test_size=0.2, random_state=42)\n",
        "\n",
        "# creating and fitting model\n",
        "log_reg_model = LogisticRegression()\n",
        "log_reg_model.fit(X_train, y_train)\n",
        "\n",
        "# predictions\n",
        "y_pred_log = log_reg_model.predict(X_test)\n",
        "\n",
        "accur_lrb2 = accuracy_score(y_test, y_pred_log)\n",
        "mae_lrb2 = mean_absolute_error(y_test, y_pred_log)\n",
        "precision_lrb2, recall_lrb2, f1_lrb2, _ = precision_recall_fscore_support(y_test, y_pred, average='weighted')"
      ]
    },
    {
      "cell_type": "code",
      "execution_count": null,
      "metadata": {
        "collapsed": true,
        "id": "6Wv0SzDz8WxR",
        "colab": {
          "base_uri": "https://localhost:8080/"
        },
        "outputId": "685fcd69-4b2f-43ef-db3e-9d22cc645472"
      },
      "outputs": [
        {
          "output_type": "stream",
          "name": "stdout",
          "text": [
            "bucket\n",
            "8    371\n",
            "9    267\n",
            "4    183\n",
            "3    178\n",
            "5    130\n",
            "6    127\n",
            "2    119\n",
            "7     96\n",
            "1     15\n",
            "Name: count, dtype: int64\n"
          ]
        },
        {
          "output_type": "stream",
          "name": "stderr",
          "text": [
            "/usr/local/lib/python3.11/dist-packages/sklearn/metrics/_classification.py:1565: UndefinedMetricWarning: Precision is ill-defined and being set to 0.0 in labels with no predicted samples. Use `zero_division` parameter to control this behavior.\n",
            "  _warn_prf(average, modifier, f\"{metric.capitalize()} is\", len(result))\n"
          ]
        }
      ],
      "source": [
        "# Classification Model with Feature Engineering and manually defined price ranges\n",
        "df['bucket'] = 9\n",
        "df.loc[df['price'] < 2050000, 'bucket'] = 8\n",
        "for i in range(7, -1, -1):\n",
        "  df.loc[(df['price'] < (250000 + i*100000)), 'bucket'] = i\n",
        "\n",
        "# Checking bucket distribution\n",
        "frequency_counts = df['bucket'].value_counts()\n",
        "print(frequency_counts)\n",
        "\n",
        "y_labels = df.bucket\n",
        "X_bucket = df.drop(columns=['price', 'bucket', 'ID'])\n",
        "\n",
        "# standardizing data\n",
        "scaler_bucket = StandardScaler().fit(X_bucket)\n",
        "X_bucket = scaler_bucket.transform(X_bucket)\n",
        "\n",
        "X_train, X_test, y_train, y_test = train_test_split(X_bucket, y_labels, test_size=0.2, random_state=42)\n",
        "\n",
        "buckets_model = create_log_reg_model(X_train, y_train)\n",
        "\n",
        "y_pred = buckets_model.predict(X_test)\n",
        "\n",
        "accur_lrb1 = accuracy_score(y_test, y_pred)\n",
        "mae_lrb1 = mean_absolute_error(y_test, y_pred)\n",
        "precision_lrb1, recall_lrb1, f1_lrb1, _ = precision_recall_fscore_support(y_test, y_pred, average='weighted')"
      ]
    },
    {
      "cell_type": "code",
      "execution_count": null,
      "metadata": {
        "collapsed": true,
        "id": "liRiZb1fyNzH"
      },
      "outputs": [],
      "source": [
        "# Random Forest Classifier with Feature Engineering\n",
        "\n",
        "df_bucket = create_buckets(df, 'price', 9)\n",
        "\n",
        "year = today.year\n",
        "df_bucket[\"Base Rooms\"] = df_bucket[\"Bedrooms\"] + df[\"baths\"]\n",
        "df_bucket[\"Living Area Ratio\"] = df_bucket[\"Living Area\"] / df[\"Total Area\"]\n",
        "df_bucket[\"Living Area Squared\"] = df_bucket[\"Living Area\"] ** 2\n",
        "df_bucket[\"House Age\"] = year - df_bucket['year']\n",
        "\n",
        "y_labels = df_bucket.bucket\n",
        "X_bucket = df_bucket.drop(columns=['ID', 'price', 'bucket'])\n",
        "\n",
        "scaler_bucket = StandardScaler().fit(X_bucket)\n",
        "X_bucket = scaler_bucket.transform(X_bucket)\n",
        "\n",
        "X_bucket_train, X_bucket_test, y_labels_train, y_labels_test = train_test_split(X_bucket, y_labels, test_size=0.2, random_state=725)\n",
        "\n",
        "rf_buckets = RandomForestClassifier(random_state=42)\n",
        "\n",
        "rf_buckets.fit(X_bucket_train, y_labels_train)\n",
        "\n",
        "y_labels_pred = rf_buckets.predict(X_bucket_test)\n",
        "\n",
        "accur_rfc = accuracy_score(y_labels_test, y_labels_pred)\n",
        "mae_rfc = mean_absolute_error(y_labels_test, y_labels_pred)\n",
        "precision_rfc, recall_rfc, f1_rfc, _ = precision_recall_fscore_support(y_labels_test, y_labels_pred, average='weighted')"
      ]
    },
    {
      "cell_type": "code",
      "execution_count": null,
      "metadata": {
        "collapsed": true,
        "id": "PpRaJr7e-Hdm",
        "colab": {
          "base_uri": "https://localhost:8080/"
        },
        "outputId": "27c9e434-ea77-4a8b-c948-d5ca36ee5d20"
      },
      "outputs": [
        {
          "output_type": "display_data",
          "data": {
            "text/plain": [
              "<Figure size 640x480 with 2 Axes>"
            ],
            "image/png": "[encoded data removed]"
          },
          "metadata": {}
        }
      ],
      "source": [
        "cm = confusion_matrix(y_labels_test, y_labels_pred)\n",
        "sns.heatmap(cm, annot=True, fmt='d', cmap='Blues')\n",
        "plt.xlabel('Predicted')\n",
        "plt.ylabel('True')\n",
        "plt.title('Confusion Matrix of Random Forest Classifier')\n",
        "plt.show()"
      ]
    },
    {
      "cell_type": "markdown",
      "source": [
        "# Evaluation"
      ],
      "metadata": {
        "id": "R0pyBvj-XD9_"
      }
    },
    {
      "cell_type": "code",
      "execution_count": null,
      "metadata": {
        "collapsed": true,
        "id": "eds8qVe4uRto",
        "colab": {
          "base_uri": "https://localhost:8080/"
        },
        "outputId": "4e104854-9229-42b6-f25c-f9f342473654"
      },
      "outputs": [
        {
          "output_type": "execute_result",
          "data": {
            "text/plain": [
              "<Axes: >"
            ]
          },
          "metadata": {},
          "execution_count": 86
        },
        {
          "output_type": "display_data",
          "data": {
            "text/plain": [
              "<Figure size 640x480 with 2 Axes>"
            ],
            "image/png": "[encoded data removed]"
          },
          "metadata": {}
        }
      ],
      "source": [
        "pal = sns.diverging_palette(145, 300, s=60, as_cmap=True)\n",
        "sns.heatmap(df.drop(columns=['ID']).corr(), cmap = pal)"
      ]
    },
    {
      "cell_type": "code",
      "execution_count": 23,
      "metadata": {
        "collapsed": true,
        "id": "LVd6X4nEUJ3Q",
        "colab": {
          "base_uri": "https://localhost:8080/"
        },
        "outputId": "c1f525fa-4075-402a-fbe3-0d68043cd0b9"
      },
      "outputs": [
        {
          "output_type": "stream",
          "name": "stdout",
          "text": [
            "Regression Model Performance Table:\n",
            "\n",
            "|                          |      R^2 |    RMSLE |    MAE |\n",
            "|:-------------------------|---------:|---------:|-------:|\n",
            "| Linear Reg w/o FE        | 0.658265 | 5.25439  | 833327 |\n",
            "| Random Forest Reg w/o FE | 0.86691  | 0.32969  | 446079 |\n",
            "| Linear Reg               | 0.691693 | 4.16431  | 740439 |\n",
            "| Random Forest Regressor  | 0.863491 | 0.346727 | 460553 |\n",
            "| XGBoost                  | 0.504202 | 0.343914 | 647394 |\n",
            "\n",
            "Classification Model Performance Table:\n",
            "\n",
            "|                          |   Accuracy |   Mean Absolute Error |   Precision |   Recall |       F1 |\n",
            "|:-------------------------|-----------:|----------------------:|------------:|---------:|---------:|\n",
            "| Logistic Regression B1   |   0.496644 |              1.10067  |    0.492949 | 0.496644 | 0.462861 |\n",
            "| Logistic Regression B2   |   0.40604  |              1.01342  |    0.387731 | 0.40604  | 0.392839 |\n",
            "| Random Forest Classifier |   0.442953 |              0.892617 |    0.442323 | 0.442953 | 0.436839 |\n"
          ]
        }
      ],
      "source": [
        "# Regression Model Performance Table\n",
        "regression_models = [\n",
        "    \"Linear Reg w/o FE\",\n",
        "    \"Random Forest Reg w/o FE\",\n",
        "    \"Linear Reg\",\n",
        "    \"Random Forest Regressor\",\n",
        "    \"XGBoost\",\n",
        "]\n",
        "regression_metrics = [\"R^2\", \"RMSLE\", \"MAE\"]\n",
        "\n",
        "# Create regression performance DataFrame with sample values\n",
        "regression_data = {\n",
        "    \"R^2\": [r2_lr_wo, r2_rfr_wo, r2_lr, r2_rfr, r2_xgb],\n",
        "    \"RMSLE\": [rmsle_lr_wo, rmsle_rfr_wo, rmsle_lr, rmsle_rfr, rmsle_xgb],\n",
        "    \"MAE\": [mae_lr_wo, mae_rfr_wo, mae_lr, mae_rfr, mae_xgb]\n",
        "}\n",
        "regression_df = pd.DataFrame(regression_data, index=regression_models)\n",
        "\n",
        "# Define classification models and metrics\n",
        "classification_models = [\n",
        "    \"Logistic Regression B1\",\n",
        "    \"Logistic Regression B2\",\n",
        "    \"Random Forest Classifier\"\n",
        "]\n",
        "classification_metrics = [\"Accuracy\", \"Mean Absolute Error\", \"Precision\", \"Recall\", \"F1\"]\n",
        "\n",
        "# Create classification performance DataFrame with sample values\n",
        "classification_data = {\n",
        "    \"Accuracy\": [accur_lrb1, accur_lrb2, accur_rfc],\n",
        "    \"Mean Absolute Error\": [mae_lrb1, mae_lrb2, mae_rfc],\n",
        "    \"Precision\": [precision_lrb1, precision_lrb2, precision_rfc],\n",
        "    \"Recall\": [recall_lrb1, recall_lrb2, recall_rfc],\n",
        "    \"F1\": [f1_lrb1, f1_lrb2, f1_rfc]\n",
        "}\n",
        "classification_df = pd.DataFrame(classification_data, index=classification_models)\n",
        "\n",
        "# Display tables\n",
        "print(\"Regression Model Performance Table:\\n\")\n",
        "print(regression_df.to_markdown())\n",
        "print(\"\\nClassification Model Performance Table:\\n\")\n",
        "print(classification_df.to_markdown())"
      ]
    },
    {
      "cell_type": "markdown",
      "metadata": {
        "id": "COZ4cW9gbRM7"
      },
      "source": [
        "Regression Model Performance Table:\n",
        "\n",
        "|                          |      R^2 |    RMSLE |    MAE |\n",
        "|:-------------------------|---------:|---------:|-------:|\n",
        "| Linear Reg w/o FE        | 0.658265 | 5.25439  | 833327 |\n",
        "| Random Forest Reg w/o FE | 0.86691  | 0.32969  | 446079 |\n",
        "| Linear Reg               | 0.691693 | 4.16431  | 740439 |\n",
        "| Random Forest Regressor  | 0.863491 | 0.346727 | 460553 |\n",
        "| XGBoost                  | 0.504202 | 0.343914 | 647394 |\n",
        "\n",
        "Classification Model Performance Table:\n",
        "\n",
        "|                          |   Accuracy |   Mean Absolute Error |   Precision |   Recall |       F1 |\n",
        "|:-------------------------|-----------:|----------------------:|------------:|---------:|---------:|\n",
        "| Logistic Regression B1   |   0.496644 |              1.10067  |    0.492949 | 0.496644 | 0.462861 |\n",
        "| Logistic Regression B2   |   0.40604  |              1.01342  |    0.387731 | 0.40604  | 0.392839 |\n",
        "| Random Forest Classifier |   0.442953 |              0.892617 |    0.442323 | 0.442953 | 0.436839 |"
      ]
    },
    {
      "cell_type": "code",
      "source": [],
      "metadata": {
        "id": "YFjbSNbhvzWd"
      },
      "execution_count": null,
      "outputs": []
    }
  ],
  "metadata": {
    "colab": {
      "provenance": []
    },
    "kernelspec": {
      "display_name": "Python 3",
      "name": "python3"
    },
    "language_info": {
      "name": "python"
    }
  },
  "nbformat": 4,
  "nbformat_minor": 0
}